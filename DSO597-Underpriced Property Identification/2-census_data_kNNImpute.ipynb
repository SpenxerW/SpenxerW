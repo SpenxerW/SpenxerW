{
 "cells": [
  {
   "cell_type": "code",
   "execution_count": 1,
   "id": "2815a92b",
   "metadata": {},
   "outputs": [],
   "source": [
    "import pandas as pd\n",
    "import numpy as np\n",
    "import matplotlib.pyplot as plt\n",
    "import seaborn as sns\n",
    "import datetime \n",
    "from sklearn.impute import KNNImputer"
   ]
  },
  {
   "cell_type": "markdown",
   "id": "5a103b8d",
   "metadata": {},
   "source": [
    "# property data"
   ]
  },
  {
   "cell_type": "code",
   "execution_count": 2,
   "id": "0dac19b6",
   "metadata": {},
   "outputs": [
    {
     "name": "stderr",
     "output_type": "stream",
     "text": [
      "/Users/suixinwa/opt/anaconda3/lib/python3.9/site-packages/IPython/core/interactiveshell.py:3444: DtypeWarning: Columns (4) have mixed types.Specify dtype option on import or set low_memory=False.\n",
      "  exec(code_obj, self.user_global_ns, self.user_ns)\n"
     ]
    }
   ],
   "source": [
    "df = pd.read_csv('0228_property_data_SWH_ALL.csv')"
   ]
  },
  {
   "cell_type": "code",
   "execution_count": 3,
   "id": "b5df1e6e",
   "metadata": {},
   "outputs": [],
   "source": [
    "df = df.drop(['Unnamed: 0'], axis = 1)"
   ]
  },
  {
   "cell_type": "code",
   "execution_count": 4,
   "id": "9c92e81a",
   "metadata": {},
   "outputs": [
    {
     "data": {
      "text/plain": [
       "Index(['PROPERTY_ID', 'MARKETID', 'MARKET_NAME', 'SUBMARKET_CODE',\n",
       "       'SUBMARKET_NAME', 'COUNTY_NAME', 'PROPERTY_NAME', 'PROPERTY_PRIORNAMES',\n",
       "       'PROPERTY_ADDRESS', 'PROPERTY_CITY', 'PROPERTY_STATE',\n",
       "       'PROPERTY_ZIPCODE', 'PROPERTY_LATITUDE', 'PROPERTY_LONGITUDE',\n",
       "       'PROPERTY_PHONE', 'PROPERTY_UNITS', 'PROPERTY_SQFT', 'PROPERTY_ACRES',\n",
       "       'PROPERTY_IMPRATING', 'PROPERTY_LOCRATING', 'PROPERTY_STATUS',\n",
       "       'PROPERTY_DATE_PLANNED', 'PROPERTY_DATE_UNDERCONSTRUCTION',\n",
       "       'PROPERTY_DATE_RENTUP', 'PROPERTY_DATECOMPLETED',\n",
       "       'PROPERTY_CURRENT_OCCUPANCY', 'PROPERTY_CURRENT_RENT',\n",
       "       'PROPERTY_MATRIX_URL', 'REGION', 'RENT_SQFT',\n",
       "       'UNDER_CONSTRUCTION_RATIO', 'AGE', 'HOSPITAL', 'wholefood', 'state#',\n",
       "       'county#', 'tract#', 'starbucks1', 'wholefood1', 'hospital1',\n",
       "       'starbucks2', 'wholefood2', 'hospital2', 'starbucks3', 'wholefood3',\n",
       "       'hospital3', 'starbucks4', 'wholefood4', 'hospital4', 'starbucks5',\n",
       "       'wholefood5', 'hospital5'],\n",
       "      dtype='object')"
      ]
     },
     "execution_count": 4,
     "metadata": {},
     "output_type": "execute_result"
    }
   ],
   "source": [
    "df.columns"
   ]
  },
  {
   "cell_type": "code",
   "execution_count": 5,
   "id": "e089daac",
   "metadata": {},
   "outputs": [
    {
     "data": {
      "text/plain": [
       "(22453, 52)"
      ]
     },
     "execution_count": 5,
     "metadata": {},
     "output_type": "execute_result"
    }
   ],
   "source": [
    "df.shape"
   ]
  },
  {
   "cell_type": "code",
   "execution_count": 6,
   "id": "6b57b2f4",
   "metadata": {
    "scrolled": true
   },
   "outputs": [
    {
     "data": {
      "text/plain": [
       "Index(['PROPERTY_ID', 'MARKETID', 'MARKET_NAME', 'SUBMARKET_CODE',\n",
       "       'SUBMARKET_NAME', 'COUNTY_NAME', 'PROPERTY_NAME', 'PROPERTY_PRIORNAMES',\n",
       "       'PROPERTY_ADDRESS', 'PROPERTY_CITY', 'PROPERTY_STATE',\n",
       "       'PROPERTY_ZIPCODE', 'PROPERTY_LATITUDE', 'PROPERTY_LONGITUDE',\n",
       "       'PROPERTY_PHONE', 'PROPERTY_UNITS', 'PROPERTY_SQFT', 'PROPERTY_ACRES',\n",
       "       'PROPERTY_IMPRATING', 'PROPERTY_LOCRATING', 'PROPERTY_STATUS',\n",
       "       'PROPERTY_DATE_PLANNED', 'PROPERTY_DATE_UNDERCONSTRUCTION',\n",
       "       'PROPERTY_DATE_RENTUP', 'PROPERTY_DATECOMPLETED',\n",
       "       'PROPERTY_CURRENT_OCCUPANCY', 'PROPERTY_CURRENT_RENT',\n",
       "       'PROPERTY_MATRIX_URL', 'REGION', 'RENT_SQFT',\n",
       "       'UNDER_CONSTRUCTION_RATIO', 'AGE', 'HOSPITAL', 'wholefood', 'state#',\n",
       "       'county#', 'tract#', 'starbucks1', 'wholefood1', 'hospital1',\n",
       "       'starbucks2', 'wholefood2', 'hospital2', 'starbucks3', 'wholefood3',\n",
       "       'hospital3', 'starbucks4', 'wholefood4', 'hospital4', 'starbucks5',\n",
       "       'wholefood5', 'hospital5'],\n",
       "      dtype='object')"
      ]
     },
     "execution_count": 6,
     "metadata": {},
     "output_type": "execute_result"
    }
   ],
   "source": [
    "df.columns"
   ]
  },
  {
   "cell_type": "code",
   "execution_count": 7,
   "id": "7f3b22cf",
   "metadata": {
    "scrolled": true
   },
   "outputs": [
    {
     "data": {
      "text/plain": [
       "Int64Index([48, 12, 13, 37, 4, 8, 47, 45, 32, 40, 1, 49, 22, 21, 35, 5, 28, 16,\n",
       "            18],\n",
       "           dtype='int64')"
      ]
     },
     "execution_count": 7,
     "metadata": {},
     "output_type": "execute_result"
    }
   ],
   "source": [
    "state_filter = df['state#'].value_counts().index\n",
    "state_filter"
   ]
  },
  {
   "cell_type": "code",
   "execution_count": 8,
   "id": "f10a2cca",
   "metadata": {},
   "outputs": [],
   "source": [
    "df[\"AGE\"] = datetime.datetime.now().year - pd.to_datetime(df[\"PROPERTY_DATECOMPLETED\"]).dt.year"
   ]
  },
  {
   "cell_type": "markdown",
   "id": "f518703c",
   "metadata": {},
   "source": [
    "# census"
   ]
  },
  {
   "cell_type": "code",
   "execution_count": 9,
   "id": "21d801e4",
   "metadata": {},
   "outputs": [],
   "source": [
    "tract = pd.read_csv('tract_covariates.csv')"
   ]
  },
  {
   "cell_type": "code",
   "execution_count": 10,
   "id": "848dead4",
   "metadata": {},
   "outputs": [
    {
     "data": {
      "text/plain": [
       "(74044, 38)"
      ]
     },
     "execution_count": 10,
     "metadata": {},
     "output_type": "execute_result"
    }
   ],
   "source": [
    "tract.shape"
   ]
  },
  {
   "cell_type": "code",
   "execution_count": 11,
   "id": "3729ca54",
   "metadata": {},
   "outputs": [],
   "source": [
    "tract = tract[tract['state'].isin(state_filter)]\n",
    "tract = tract.reset_index(drop = True)"
   ]
  },
  {
   "cell_type": "code",
   "execution_count": 12,
   "id": "4208e1ae",
   "metadata": {},
   "outputs": [
    {
     "data": {
      "text/plain": [
       "(28479, 38)"
      ]
     },
     "execution_count": 12,
     "metadata": {},
     "output_type": "execute_result"
    }
   ],
   "source": [
    "tract.shape"
   ]
  },
  {
   "cell_type": "code",
   "execution_count": 13,
   "id": "2d781566",
   "metadata": {},
   "outputs": [],
   "source": [
    "tract = tract.drop(['cz'], axis = 1)"
   ]
  },
  {
   "cell_type": "code",
   "execution_count": 14,
   "id": "c7c32c66",
   "metadata": {},
   "outputs": [
    {
     "data": {
      "text/html": [
       "<div>\n",
       "<style scoped>\n",
       "    .dataframe tbody tr th:only-of-type {\n",
       "        vertical-align: middle;\n",
       "    }\n",
       "\n",
       "    .dataframe tbody tr th {\n",
       "        vertical-align: top;\n",
       "    }\n",
       "\n",
       "    .dataframe thead th {\n",
       "        text-align: right;\n",
       "    }\n",
       "</style>\n",
       "<table border=\"1\" class=\"dataframe\">\n",
       "  <thead>\n",
       "    <tr style=\"text-align: right;\">\n",
       "      <th></th>\n",
       "      <th>state</th>\n",
       "      <th>county</th>\n",
       "      <th>tract</th>\n",
       "      <th>czname</th>\n",
       "      <th>hhinc_mean2000</th>\n",
       "      <th>mean_commutetime2000</th>\n",
       "      <th>frac_coll_plus2000</th>\n",
       "      <th>frac_coll_plus2010</th>\n",
       "      <th>foreign_share2010</th>\n",
       "      <th>med_hhinc1990</th>\n",
       "      <th>...</th>\n",
       "      <th>singleparent_share2000</th>\n",
       "      <th>traveltime15_2010</th>\n",
       "      <th>emp2000</th>\n",
       "      <th>mail_return_rate2010</th>\n",
       "      <th>ln_wage_growth_hs_grad</th>\n",
       "      <th>jobs_total_5mi_2015</th>\n",
       "      <th>jobs_highpay_5mi_2015</th>\n",
       "      <th>popdensity2010</th>\n",
       "      <th>ann_avg_job_growth_2004_2013</th>\n",
       "      <th>job_density_2013</th>\n",
       "    </tr>\n",
       "  </thead>\n",
       "  <tbody>\n",
       "    <tr>\n",
       "      <th>0</th>\n",
       "      <td>1</td>\n",
       "      <td>1</td>\n",
       "      <td>20100</td>\n",
       "      <td>Montgomery</td>\n",
       "      <td>68638.727</td>\n",
       "      <td>26.171911</td>\n",
       "      <td>0.156479</td>\n",
       "      <td>0.254428</td>\n",
       "      <td>0.009950</td>\n",
       "      <td>27375.0</td>\n",
       "      <td>...</td>\n",
       "      <td>0.250980</td>\n",
       "      <td>0.273034</td>\n",
       "      <td>0.567308</td>\n",
       "      <td>83.500000</td>\n",
       "      <td>0.038233</td>\n",
       "      <td>10109.0</td>\n",
       "      <td>3396.0</td>\n",
       "      <td>504.75183</td>\n",
       "      <td>-0.006769</td>\n",
       "      <td>92.133049</td>\n",
       "    </tr>\n",
       "    <tr>\n",
       "      <th>1</th>\n",
       "      <td>1</td>\n",
       "      <td>1</td>\n",
       "      <td>20200</td>\n",
       "      <td>Montgomery</td>\n",
       "      <td>57242.512</td>\n",
       "      <td>24.806705</td>\n",
       "      <td>0.146932</td>\n",
       "      <td>0.267194</td>\n",
       "      <td>0.016337</td>\n",
       "      <td>19000.0</td>\n",
       "      <td>...</td>\n",
       "      <td>0.392523</td>\n",
       "      <td>0.152040</td>\n",
       "      <td>0.493169</td>\n",
       "      <td>81.300003</td>\n",
       "      <td>0.089306</td>\n",
       "      <td>9948.0</td>\n",
       "      <td>3328.0</td>\n",
       "      <td>1682.17050</td>\n",
       "      <td>-0.004253</td>\n",
       "      <td>971.317870</td>\n",
       "    </tr>\n",
       "    <tr>\n",
       "      <th>2</th>\n",
       "      <td>1</td>\n",
       "      <td>1</td>\n",
       "      <td>20300</td>\n",
       "      <td>Montgomery</td>\n",
       "      <td>75647.727</td>\n",
       "      <td>25.322525</td>\n",
       "      <td>0.224413</td>\n",
       "      <td>0.164159</td>\n",
       "      <td>0.027096</td>\n",
       "      <td>29419.0</td>\n",
       "      <td>...</td>\n",
       "      <td>0.244856</td>\n",
       "      <td>0.205534</td>\n",
       "      <td>0.578560</td>\n",
       "      <td>79.500000</td>\n",
       "      <td>-0.177743</td>\n",
       "      <td>10387.0</td>\n",
       "      <td>3230.0</td>\n",
       "      <td>1633.41390</td>\n",
       "      <td>0.014218</td>\n",
       "      <td>340.920070</td>\n",
       "    </tr>\n",
       "    <tr>\n",
       "      <th>3</th>\n",
       "      <td>1</td>\n",
       "      <td>1</td>\n",
       "      <td>20400</td>\n",
       "      <td>Montgomery</td>\n",
       "      <td>74852.055</td>\n",
       "      <td>22.965347</td>\n",
       "      <td>0.230469</td>\n",
       "      <td>0.252744</td>\n",
       "      <td>0.015083</td>\n",
       "      <td>37891.0</td>\n",
       "      <td>...</td>\n",
       "      <td>0.190722</td>\n",
       "      <td>0.350673</td>\n",
       "      <td>0.596501</td>\n",
       "      <td>83.500000</td>\n",
       "      <td>-0.072311</td>\n",
       "      <td>12933.0</td>\n",
       "      <td>3635.0</td>\n",
       "      <td>1780.03250</td>\n",
       "      <td>-0.019841</td>\n",
       "      <td>207.386370</td>\n",
       "    </tr>\n",
       "    <tr>\n",
       "      <th>4</th>\n",
       "      <td>1</td>\n",
       "      <td>1</td>\n",
       "      <td>20500</td>\n",
       "      <td>Montgomery</td>\n",
       "      <td>96174.766</td>\n",
       "      <td>26.222353</td>\n",
       "      <td>0.321154</td>\n",
       "      <td>0.375063</td>\n",
       "      <td>0.046488</td>\n",
       "      <td>41516.0</td>\n",
       "      <td>...</td>\n",
       "      <td>0.168000</td>\n",
       "      <td>0.250496</td>\n",
       "      <td>0.661268</td>\n",
       "      <td>77.300003</td>\n",
       "      <td>-0.096140</td>\n",
       "      <td>12933.0</td>\n",
       "      <td>3635.0</td>\n",
       "      <td>2446.26220</td>\n",
       "      <td>0.018627</td>\n",
       "      <td>800.272640</td>\n",
       "    </tr>\n",
       "  </tbody>\n",
       "</table>\n",
       "<p>5 rows × 37 columns</p>\n",
       "</div>"
      ],
      "text/plain": [
       "   state  county  tract      czname  hhinc_mean2000  mean_commutetime2000  \\\n",
       "0      1       1  20100  Montgomery       68638.727             26.171911   \n",
       "1      1       1  20200  Montgomery       57242.512             24.806705   \n",
       "2      1       1  20300  Montgomery       75647.727             25.322525   \n",
       "3      1       1  20400  Montgomery       74852.055             22.965347   \n",
       "4      1       1  20500  Montgomery       96174.766             26.222353   \n",
       "\n",
       "   frac_coll_plus2000  frac_coll_plus2010  foreign_share2010  med_hhinc1990  \\\n",
       "0            0.156479            0.254428           0.009950        27375.0   \n",
       "1            0.146932            0.267194           0.016337        19000.0   \n",
       "2            0.224413            0.164159           0.027096        29419.0   \n",
       "3            0.230469            0.252744           0.015083        37891.0   \n",
       "4            0.321154            0.375063           0.046488        41516.0   \n",
       "\n",
       "   ...  singleparent_share2000  traveltime15_2010   emp2000  \\\n",
       "0  ...                0.250980           0.273034  0.567308   \n",
       "1  ...                0.392523           0.152040  0.493169   \n",
       "2  ...                0.244856           0.205534  0.578560   \n",
       "3  ...                0.190722           0.350673  0.596501   \n",
       "4  ...                0.168000           0.250496  0.661268   \n",
       "\n",
       "   mail_return_rate2010  ln_wage_growth_hs_grad  jobs_total_5mi_2015  \\\n",
       "0             83.500000                0.038233              10109.0   \n",
       "1             81.300003                0.089306               9948.0   \n",
       "2             79.500000               -0.177743              10387.0   \n",
       "3             83.500000               -0.072311              12933.0   \n",
       "4             77.300003               -0.096140              12933.0   \n",
       "\n",
       "   jobs_highpay_5mi_2015  popdensity2010  ann_avg_job_growth_2004_2013  \\\n",
       "0                 3396.0       504.75183                     -0.006769   \n",
       "1                 3328.0      1682.17050                     -0.004253   \n",
       "2                 3230.0      1633.41390                      0.014218   \n",
       "3                 3635.0      1780.03250                     -0.019841   \n",
       "4                 3635.0      2446.26220                      0.018627   \n",
       "\n",
       "   job_density_2013  \n",
       "0         92.133049  \n",
       "1        971.317870  \n",
       "2        340.920070  \n",
       "3        207.386370  \n",
       "4        800.272640  \n",
       "\n",
       "[5 rows x 37 columns]"
      ]
     },
     "execution_count": 14,
     "metadata": {},
     "output_type": "execute_result"
    }
   ],
   "source": [
    "tract.head()"
   ]
  },
  {
   "cell_type": "code",
   "execution_count": 15,
   "id": "c319aed4",
   "metadata": {},
   "outputs": [
    {
     "data": {
      "text/plain": [
       "Text(0.5, 1.0, 'count of missing values')"
      ]
     },
     "execution_count": 15,
     "metadata": {},
     "output_type": "execute_result"
    },
    {
     "data": {
      "image/png": "[encoded data removed]",
      "text/plain": [
       "<Figure size 720x360 with 1 Axes>"
      ]
     },
     "metadata": {
      "needs_background": "light"
     },
     "output_type": "display_data"
    }
   ],
   "source": [
    "plt.figure(figsize=(10,5))\n",
    "pd.Series(tract.isnull().sum()).plot.bar()\n",
    "plt.title('count of missing values')"
   ]
  },
  {
   "cell_type": "code",
   "execution_count": 16,
   "id": "791be1e0",
   "metadata": {},
   "outputs": [
    {
     "data": {
      "text/html": [
       "<div>\n",
       "<style scoped>\n",
       "    .dataframe tbody tr th:only-of-type {\n",
       "        vertical-align: middle;\n",
       "    }\n",
       "\n",
       "    .dataframe tbody tr th {\n",
       "        vertical-align: top;\n",
       "    }\n",
       "\n",
       "    .dataframe thead th {\n",
       "        text-align: right;\n",
       "    }\n",
       "</style>\n",
       "<table border=\"1\" class=\"dataframe\">\n",
       "  <thead>\n",
       "    <tr style=\"text-align: right;\">\n",
       "      <th></th>\n",
       "      <th>hhinc_mean2000</th>\n",
       "      <th>mean_commutetime2000</th>\n",
       "      <th>frac_coll_plus2000</th>\n",
       "      <th>frac_coll_plus2010</th>\n",
       "      <th>foreign_share2010</th>\n",
       "      <th>med_hhinc1990</th>\n",
       "      <th>med_hhinc2016</th>\n",
       "      <th>popdensity2000</th>\n",
       "      <th>poor_share2010</th>\n",
       "      <th>poor_share2000</th>\n",
       "      <th>...</th>\n",
       "      <th>singleparent_share2000</th>\n",
       "      <th>traveltime15_2010</th>\n",
       "      <th>emp2000</th>\n",
       "      <th>mail_return_rate2010</th>\n",
       "      <th>ln_wage_growth_hs_grad</th>\n",
       "      <th>jobs_total_5mi_2015</th>\n",
       "      <th>jobs_highpay_5mi_2015</th>\n",
       "      <th>popdensity2010</th>\n",
       "      <th>ann_avg_job_growth_2004_2013</th>\n",
       "      <th>job_density_2013</th>\n",
       "    </tr>\n",
       "  </thead>\n",
       "  <tbody>\n",
       "    <tr>\n",
       "      <th>0</th>\n",
       "      <td>68638.727</td>\n",
       "      <td>26.171911</td>\n",
       "      <td>0.156479</td>\n",
       "      <td>0.254428</td>\n",
       "      <td>0.009950</td>\n",
       "      <td>27375.0</td>\n",
       "      <td>66000.0</td>\n",
       "      <td>195.72380</td>\n",
       "      <td>0.105030</td>\n",
       "      <td>0.126816</td>\n",
       "      <td>...</td>\n",
       "      <td>0.250980</td>\n",
       "      <td>0.273034</td>\n",
       "      <td>0.567308</td>\n",
       "      <td>83.500000</td>\n",
       "      <td>0.038233</td>\n",
       "      <td>10109.0</td>\n",
       "      <td>3396.0</td>\n",
       "      <td>504.75183</td>\n",
       "      <td>-0.006769</td>\n",
       "      <td>92.133049</td>\n",
       "    </tr>\n",
       "    <tr>\n",
       "      <th>1</th>\n",
       "      <td>57242.512</td>\n",
       "      <td>24.806705</td>\n",
       "      <td>0.146932</td>\n",
       "      <td>0.267194</td>\n",
       "      <td>0.016337</td>\n",
       "      <td>19000.0</td>\n",
       "      <td>41107.0</td>\n",
       "      <td>566.38141</td>\n",
       "      <td>0.147590</td>\n",
       "      <td>0.227058</td>\n",
       "      <td>...</td>\n",
       "      <td>0.392523</td>\n",
       "      <td>0.152040</td>\n",
       "      <td>0.493169</td>\n",
       "      <td>81.300003</td>\n",
       "      <td>0.089306</td>\n",
       "      <td>9948.0</td>\n",
       "      <td>3328.0</td>\n",
       "      <td>1682.17050</td>\n",
       "      <td>-0.004253</td>\n",
       "      <td>971.317870</td>\n",
       "    </tr>\n",
       "    <tr>\n",
       "      <th>2</th>\n",
       "      <td>75647.727</td>\n",
       "      <td>25.322525</td>\n",
       "      <td>0.224413</td>\n",
       "      <td>0.164159</td>\n",
       "      <td>0.027096</td>\n",
       "      <td>29419.0</td>\n",
       "      <td>51250.0</td>\n",
       "      <td>624.19684</td>\n",
       "      <td>0.080385</td>\n",
       "      <td>0.076640</td>\n",
       "      <td>...</td>\n",
       "      <td>0.244856</td>\n",
       "      <td>0.205534</td>\n",
       "      <td>0.578560</td>\n",
       "      <td>79.500000</td>\n",
       "      <td>-0.177743</td>\n",
       "      <td>10387.0</td>\n",
       "      <td>3230.0</td>\n",
       "      <td>1633.41390</td>\n",
       "      <td>0.014218</td>\n",
       "      <td>340.920070</td>\n",
       "    </tr>\n",
       "    <tr>\n",
       "      <th>3</th>\n",
       "      <td>74852.055</td>\n",
       "      <td>22.965347</td>\n",
       "      <td>0.230469</td>\n",
       "      <td>0.252744</td>\n",
       "      <td>0.015083</td>\n",
       "      <td>37891.0</td>\n",
       "      <td>52704.0</td>\n",
       "      <td>713.80396</td>\n",
       "      <td>0.063223</td>\n",
       "      <td>0.045485</td>\n",
       "      <td>...</td>\n",
       "      <td>0.190722</td>\n",
       "      <td>0.350673</td>\n",
       "      <td>0.596501</td>\n",
       "      <td>83.500000</td>\n",
       "      <td>-0.072311</td>\n",
       "      <td>12933.0</td>\n",
       "      <td>3635.0</td>\n",
       "      <td>1780.03250</td>\n",
       "      <td>-0.019841</td>\n",
       "      <td>207.386370</td>\n",
       "    </tr>\n",
       "    <tr>\n",
       "      <th>4</th>\n",
       "      <td>96174.766</td>\n",
       "      <td>26.222353</td>\n",
       "      <td>0.321154</td>\n",
       "      <td>0.375063</td>\n",
       "      <td>0.046488</td>\n",
       "      <td>41516.0</td>\n",
       "      <td>52463.0</td>\n",
       "      <td>529.93030</td>\n",
       "      <td>0.059569</td>\n",
       "      <td>0.036792</td>\n",
       "      <td>...</td>\n",
       "      <td>0.168000</td>\n",
       "      <td>0.250496</td>\n",
       "      <td>0.661268</td>\n",
       "      <td>77.300003</td>\n",
       "      <td>-0.096140</td>\n",
       "      <td>12933.0</td>\n",
       "      <td>3635.0</td>\n",
       "      <td>2446.26220</td>\n",
       "      <td>0.018627</td>\n",
       "      <td>800.272640</td>\n",
       "    </tr>\n",
       "  </tbody>\n",
       "</table>\n",
       "<p>5 rows × 33 columns</p>\n",
       "</div>"
      ],
      "text/plain": [
       "   hhinc_mean2000  mean_commutetime2000  frac_coll_plus2000  \\\n",
       "0       68638.727             26.171911            0.156479   \n",
       "1       57242.512             24.806705            0.146932   \n",
       "2       75647.727             25.322525            0.224413   \n",
       "3       74852.055             22.965347            0.230469   \n",
       "4       96174.766             26.222353            0.321154   \n",
       "\n",
       "   frac_coll_plus2010  foreign_share2010  med_hhinc1990  med_hhinc2016  \\\n",
       "0            0.254428           0.009950        27375.0        66000.0   \n",
       "1            0.267194           0.016337        19000.0        41107.0   \n",
       "2            0.164159           0.027096        29419.0        51250.0   \n",
       "3            0.252744           0.015083        37891.0        52704.0   \n",
       "4            0.375063           0.046488        41516.0        52463.0   \n",
       "\n",
       "   popdensity2000  poor_share2010  poor_share2000  ...  \\\n",
       "0       195.72380        0.105030        0.126816  ...   \n",
       "1       566.38141        0.147590        0.227058  ...   \n",
       "2       624.19684        0.080385        0.076640  ...   \n",
       "3       713.80396        0.063223        0.045485  ...   \n",
       "4       529.93030        0.059569        0.036792  ...   \n",
       "\n",
       "   singleparent_share2000  traveltime15_2010   emp2000  mail_return_rate2010  \\\n",
       "0                0.250980           0.273034  0.567308             83.500000   \n",
       "1                0.392523           0.152040  0.493169             81.300003   \n",
       "2                0.244856           0.205534  0.578560             79.500000   \n",
       "3                0.190722           0.350673  0.596501             83.500000   \n",
       "4                0.168000           0.250496  0.661268             77.300003   \n",
       "\n",
       "   ln_wage_growth_hs_grad  jobs_total_5mi_2015  jobs_highpay_5mi_2015  \\\n",
       "0                0.038233              10109.0                 3396.0   \n",
       "1                0.089306               9948.0                 3328.0   \n",
       "2               -0.177743              10387.0                 3230.0   \n",
       "3               -0.072311              12933.0                 3635.0   \n",
       "4               -0.096140              12933.0                 3635.0   \n",
       "\n",
       "   popdensity2010  ann_avg_job_growth_2004_2013  job_density_2013  \n",
       "0       504.75183                     -0.006769         92.133049  \n",
       "1      1682.17050                     -0.004253        971.317870  \n",
       "2      1633.41390                      0.014218        340.920070  \n",
       "3      1780.03250                     -0.019841        207.386370  \n",
       "4      2446.26220                      0.018627        800.272640  \n",
       "\n",
       "[5 rows x 33 columns]"
      ]
     },
     "execution_count": 16,
     "metadata": {},
     "output_type": "execute_result"
    }
   ],
   "source": [
    "tract_sub = tract.copy().iloc[:, 4:]\n",
    "tract_sub.head()"
   ]
  },
  {
   "cell_type": "code",
   "execution_count": 17,
   "id": "901088ba",
   "metadata": {},
   "outputs": [
    {
     "data": {
      "text/plain": [
       "(28479, 33)"
      ]
     },
     "execution_count": 17,
     "metadata": {},
     "output_type": "execute_result"
    }
   ],
   "source": [
    "tract_sub.shape"
   ]
  },
  {
   "cell_type": "code",
   "execution_count": 18,
   "id": "cc999aaf",
   "metadata": {},
   "outputs": [],
   "source": [
    "imputer = KNNImputer(n_neighbors = 5, weights = \"uniform\")\n",
    "tract_sub = imputer.fit_transform(tract_sub) "
   ]
  },
  {
   "cell_type": "code",
   "execution_count": 19,
   "id": "cec913c0",
   "metadata": {},
   "outputs": [],
   "source": [
    "tract_sub = pd.DataFrame(tract_sub)\n",
    "tract_sub.columns = tract.columns[4:]"
   ]
  },
  {
   "cell_type": "code",
   "execution_count": 20,
   "id": "a2835c27",
   "metadata": {},
   "outputs": [
    {
     "data": {
      "text/plain": [
       "hhinc_mean2000                  0\n",
       "mean_commutetime2000            0\n",
       "frac_coll_plus2000              0\n",
       "frac_coll_plus2010              0\n",
       "foreign_share2010               0\n",
       "med_hhinc1990                   0\n",
       "med_hhinc2016                   0\n",
       "popdensity2000                  0\n",
       "poor_share2010                  0\n",
       "poor_share2000                  0\n",
       "poor_share1990                  0\n",
       "share_white2010                 0\n",
       "share_black2010                 0\n",
       "share_hisp2010                  0\n",
       "share_asian2010                 0\n",
       "share_black2000                 0\n",
       "share_white2000                 0\n",
       "share_hisp2000                  0\n",
       "share_asian2000                 0\n",
       "gsmn_math_g3_2013               0\n",
       "rent_twobed2015                 0\n",
       "singleparent_share2010          0\n",
       "singleparent_share1990          0\n",
       "singleparent_share2000          0\n",
       "traveltime15_2010               0\n",
       "emp2000                         0\n",
       "mail_return_rate2010            0\n",
       "ln_wage_growth_hs_grad          0\n",
       "jobs_total_5mi_2015             0\n",
       "jobs_highpay_5mi_2015           0\n",
       "popdensity2010                  0\n",
       "ann_avg_job_growth_2004_2013    0\n",
       "job_density_2013                0\n",
       "dtype: int64"
      ]
     },
     "execution_count": 20,
     "metadata": {},
     "output_type": "execute_result"
    }
   ],
   "source": [
    "tract_sub.isnull().sum()"
   ]
  },
  {
   "cell_type": "code",
   "execution_count": 21,
   "id": "6ae2f156",
   "metadata": {},
   "outputs": [
    {
     "data": {
      "text/plain": [
       "(28479, 33)"
      ]
     },
     "execution_count": 21,
     "metadata": {},
     "output_type": "execute_result"
    }
   ],
   "source": [
    "tract_sub.shape"
   ]
  },
  {
   "cell_type": "code",
   "execution_count": 22,
   "id": "92418c48",
   "metadata": {},
   "outputs": [
    {
     "data": {
      "text/plain": [
       "(28479, 37)"
      ]
     },
     "execution_count": 22,
     "metadata": {},
     "output_type": "execute_result"
    }
   ],
   "source": [
    "tract.shape"
   ]
  },
  {
   "cell_type": "code",
   "execution_count": 23,
   "id": "a7092418",
   "metadata": {},
   "outputs": [],
   "source": [
    "tract = pd.concat([tract.iloc[:,:4], tract_sub], axis = 1)"
   ]
  },
  {
   "cell_type": "markdown",
   "id": "6f886b5d",
   "metadata": {},
   "source": [
    "# merge"
   ]
  },
  {
   "cell_type": "code",
   "execution_count": 24,
   "id": "d3b2fe87",
   "metadata": {},
   "outputs": [
    {
     "data": {
      "text/plain": [
       "19"
      ]
     },
     "execution_count": 24,
     "metadata": {},
     "output_type": "execute_result"
    }
   ],
   "source": [
    "(np.sort(tract.state.unique()) == np.sort(df['state#'].unique())).sum()"
   ]
  },
  {
   "cell_type": "code",
   "execution_count": 25,
   "id": "dba10f80",
   "metadata": {},
   "outputs": [
    {
     "data": {
      "text/plain": [
       "True"
      ]
     },
     "execution_count": 25,
     "metadata": {},
     "output_type": "execute_result"
    }
   ],
   "source": [
    "type(tract.county) == type(df['county#'])"
   ]
  },
  {
   "cell_type": "code",
   "execution_count": 26,
   "id": "4bc2c328",
   "metadata": {},
   "outputs": [
    {
     "data": {
      "text/plain": [
       "array([  1,   3,   5,   6,   7,   9,  11,  12,  13,  14,  15,  17,  19,\n",
       "        21,  23,  25,  27,  28,  29,  31,  33,  35,  37,  39,  41,  43,\n",
       "        45,  47,  49,  51,  53,  55,  57,  59,  61,  63,  65,  67,  69,\n",
       "        71,  73,  75,  77,  79,  81,  83,  85,  86,  87,  89,  91,  93,\n",
       "        95,  97,  99, 101, 103, 105, 107, 109, 111, 113, 115, 117, 119,\n",
       "       121, 123, 125, 127, 129, 131, 133, 135, 137, 139, 141, 143, 145,\n",
       "       147, 149, 151, 153, 155, 157, 159, 161, 163, 165, 167, 169, 171,\n",
       "       173, 175, 177, 179, 181, 183, 185, 187, 189, 191, 193, 195, 197,\n",
       "       199, 201, 203, 205, 207, 209, 211, 213, 215, 217, 219, 221, 223,\n",
       "       225, 227, 229, 231, 233, 235, 237, 239, 241, 243, 245, 247, 249,\n",
       "       251, 253, 255, 257, 259, 261, 263, 265, 267, 269, 271, 273, 275,\n",
       "       277, 279, 281, 283, 285, 287, 289, 291, 293, 295, 297, 299, 301,\n",
       "       303, 305, 307, 309, 311, 313, 315, 317, 319, 321, 323, 325, 327,\n",
       "       329, 331, 333, 335, 337, 339, 341, 343, 345, 347, 349, 351, 353,\n",
       "       355, 357, 359, 361, 363, 365, 367, 369, 371, 373, 375, 377, 379,\n",
       "       381, 383, 385, 387, 389, 391, 393, 395, 397, 399, 401, 403, 405,\n",
       "       407, 409, 411, 413, 415, 417, 419, 421, 423, 425, 427, 429, 431,\n",
       "       433, 435, 437, 439, 441, 443, 445, 447, 449, 451, 453, 455, 457,\n",
       "       459, 461, 463, 465, 467, 469, 471, 473, 475, 477, 479, 481, 483,\n",
       "       485, 487, 489, 491, 493, 495, 497, 499, 501, 503, 505, 507, 510])"
      ]
     },
     "execution_count": 26,
     "metadata": {},
     "output_type": "execute_result"
    }
   ],
   "source": [
    "np.sort(tract.county.unique())"
   ]
  },
  {
   "cell_type": "code",
   "execution_count": 27,
   "id": "d9a2b15c",
   "metadata": {},
   "outputs": [
    {
     "data": {
      "text/plain": [
       "array([  1,   3,   5,   7,   9,  11,  13,  14,  15,  17,  19,  21,  25,\n",
       "        27,  28,  29,  31,  33,  35,  37,  39,  41,  43,  45,  47,  49,\n",
       "        51,  53,  55,  57,  59,  61,  63,  67,  69,  71,  73,  77,  79,\n",
       "        81,  83,  85,  86,  87,  89,  91,  93,  95,  97,  99, 101, 103,\n",
       "       105, 107, 109, 111, 113, 115, 117, 119, 121, 123, 125, 127, 129,\n",
       "       131, 135, 137, 139, 141, 143, 145, 147, 149, 151, 153, 157, 159,\n",
       "       163, 165, 167, 169, 179, 183, 185, 187, 189, 201, 207, 209, 211,\n",
       "       215, 217, 219, 221, 225, 227, 231, 245, 247, 249, 251, 257, 273,\n",
       "       303, 309, 329, 339, 349, 355, 367, 375, 381, 397, 409, 439, 453,\n",
       "       473, 491, 510])"
      ]
     },
     "execution_count": 27,
     "metadata": {},
     "output_type": "execute_result"
    }
   ],
   "source": [
    "np.sort(df['county#'].unique())"
   ]
  },
  {
   "cell_type": "code",
   "execution_count": 28,
   "id": "3c49500d",
   "metadata": {},
   "outputs": [
    {
     "data": {
      "text/plain": [
       "True"
      ]
     },
     "execution_count": 28,
     "metadata": {},
     "output_type": "execute_result"
    }
   ],
   "source": [
    "type(tract.tract) == type(df['tract#'])"
   ]
  },
  {
   "cell_type": "code",
   "execution_count": 29,
   "id": "ca685f1c",
   "metadata": {},
   "outputs": [
    {
     "data": {
      "text/plain": [
       "array([   100,    101,    102, ..., 990000, 990100, 990200])"
      ]
     },
     "execution_count": 29,
     "metadata": {},
     "output_type": "execute_result"
    }
   ],
   "source": [
    "np.sort(tract.tract.unique())"
   ]
  },
  {
   "cell_type": "code",
   "execution_count": 30,
   "id": "efc2d0bb",
   "metadata": {},
   "outputs": [
    {
     "data": {
      "text/plain": [
       "array([   100,    101,    102, ..., 980100, 980500, 980600])"
      ]
     },
     "execution_count": 30,
     "metadata": {},
     "output_type": "execute_result"
    }
   ],
   "source": [
    "np.sort(df['tract#'].unique())"
   ]
  },
  {
   "cell_type": "code",
   "execution_count": 31,
   "id": "1711c1be",
   "metadata": {},
   "outputs": [],
   "source": [
    "tract = tract.rename(columns = {'county':'county#','state':'state#','tract':'tract#'})"
   ]
  },
  {
   "cell_type": "code",
   "execution_count": 32,
   "id": "8137027c",
   "metadata": {},
   "outputs": [],
   "source": [
    "dfFinal = df.merge(tract, on = ['state#', 'county#', 'tract#'], how = 'left')"
   ]
  },
  {
   "cell_type": "code",
   "execution_count": 33,
   "id": "cb181ff8",
   "metadata": {},
   "outputs": [
    {
     "data": {
      "text/plain": [
       "True"
      ]
     },
     "execution_count": 33,
     "metadata": {},
     "output_type": "execute_result"
    }
   ],
   "source": [
    "dfFinal.isnull().sum().sum() == df.isnull().sum().sum()"
   ]
  },
  {
   "cell_type": "code",
   "execution_count": 36,
   "id": "8c03a3ad",
   "metadata": {},
   "outputs": [],
   "source": [
    "stateDict = {1:'AL',4:'AZ',5:'AR',8:'CO',12:'FL',13:'GA',16:'ID',18:'IN',21:'KY',\n",
    "             22:'LA',28:'MS',32:'NV',35:'NM',37:'NC',40:'OK',45:'SC',47:'TN',48:'TX',49:'UT'}"
   ]
  },
  {
   "cell_type": "code",
   "execution_count": 37,
   "id": "4e06196f",
   "metadata": {},
   "outputs": [],
   "source": [
    "dfFinal['stateName'] = dfFinal['state#'].map(lambda x: stateDict[x])"
   ]
  },
  {
   "cell_type": "code",
   "execution_count": 38,
   "id": "ff8318f7",
   "metadata": {},
   "outputs": [],
   "source": [
    "dfFinal.to_csv('0305_property_data_imputed.csv')"
   ]
  }
 ],
 "metadata": {
  "kernelspec": {
   "display_name": "Python 3 (ipykernel)",
   "language": "python",
   "name": "python3"
  },
  "language_info": {
   "codemirror_mode": {
    "name": "ipython",
    "version": 3
   },
   "file_extension": ".py",
   "mimetype": "text/x-python",
   "name": "python",
   "nbconvert_exporter": "python",
   "pygments_lexer": "ipython3",
   "version": "3.9.7"
  }
 },
 "nbformat": 4,
 "nbformat_minor": 5
}
