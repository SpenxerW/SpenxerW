{
 "cells": [
  {
   "cell_type": "code",
   "execution_count": 165,
   "id": "d47b0f90",
   "metadata": {},
   "outputs": [],
   "source": [
    "import pandas as pd\n",
    "import numpy as np"
   ]
  },
  {
   "cell_type": "code",
   "execution_count": 166,
   "id": "f3c7ee22",
   "metadata": {},
   "outputs": [],
   "source": [
    "from sklearn.tree import DecisionTreeRegressor\n",
    "from sklearn.ensemble import RandomForestRegressor"
   ]
  },
  {
   "cell_type": "code",
   "execution_count": 167,
   "id": "606a607a",
   "metadata": {},
   "outputs": [],
   "source": [
    "df=pd.read_csv(\"./Pictures/0305_property_data_imputed.csv\",index_col=0)"
   ]
  },
  {
   "cell_type": "code",
   "execution_count": 168,
   "id": "f3dc07fd",
   "metadata": {},
   "outputs": [
    {
     "data": {
      "text/html": [
       "<div>\n",
       "<style scoped>\n",
       "    .dataframe tbody tr th:only-of-type {\n",
       "        vertical-align: middle;\n",
       "    }\n",
       "\n",
       "    .dataframe tbody tr th {\n",
       "        vertical-align: top;\n",
       "    }\n",
       "\n",
       "    .dataframe thead th {\n",
       "        text-align: right;\n",
       "    }\n",
       "</style>\n",
       "<table border=\"1\" class=\"dataframe\">\n",
       "  <thead>\n",
       "    <tr style=\"text-align: right;\">\n",
       "      <th></th>\n",
       "      <th>PROPERTY_ID</th>\n",
       "      <th>PROPERTY_MATRIX_URL</th>\n",
       "      <th>MARKETID</th>\n",
       "      <th>SUBMARKET_CODE</th>\n",
       "      <th>PROPERTY_ZIPCODE</th>\n",
       "      <th>PROPERTY_LATITUDE</th>\n",
       "      <th>PROPERTY_LONGITUDE</th>\n",
       "      <th>PROPERTY_UNITS</th>\n",
       "      <th>PROPERTY_SQFT</th>\n",
       "      <th>PROPERTY_ACRES</th>\n",
       "      <th>...</th>\n",
       "      <th>singleparent_share2000</th>\n",
       "      <th>traveltime15_2010</th>\n",
       "      <th>emp2000</th>\n",
       "      <th>mail_return_rate2010</th>\n",
       "      <th>ln_wage_growth_hs_grad</th>\n",
       "      <th>jobs_total_5mi_2015</th>\n",
       "      <th>jobs_highpay_5mi_2015</th>\n",
       "      <th>popdensity2010</th>\n",
       "      <th>ann_avg_job_growth_2004_2013</th>\n",
       "      <th>job_density_2013</th>\n",
       "    </tr>\n",
       "  </thead>\n",
       "  <tbody>\n",
       "    <tr>\n",
       "      <th>0</th>\n",
       "      <td>15_1028</td>\n",
       "      <td>matrix.pi-ei.com/PropertyDetail/All?MarketID=1...</td>\n",
       "      <td>15</td>\n",
       "      <td>18</td>\n",
       "      <td>33012</td>\n",
       "      <td>25.854889</td>\n",
       "      <td>-80.305491</td>\n",
       "      <td>76</td>\n",
       "      <td>39500</td>\n",
       "      <td>1.81</td>\n",
       "      <td>...</td>\n",
       "      <td>0.298841</td>\n",
       "      <td>0.224109</td>\n",
       "      <td>0.395373</td>\n",
       "      <td>79.000000</td>\n",
       "      <td>0.206498</td>\n",
       "      <td>275970.0</td>\n",
       "      <td>101451.0</td>\n",
       "      <td>11526.4160</td>\n",
       "      <td>0.013310</td>\n",
       "      <td>2320.75490</td>\n",
       "    </tr>\n",
       "    <tr>\n",
       "      <th>1</th>\n",
       "      <td>15_1160</td>\n",
       "      <td>matrix.pi-ei.com/PropertyDetail/All?MarketID=1...</td>\n",
       "      <td>15</td>\n",
       "      <td>10</td>\n",
       "      <td>33126</td>\n",
       "      <td>25.779100</td>\n",
       "      <td>-80.281827</td>\n",
       "      <td>52</td>\n",
       "      <td>41600</td>\n",
       "      <td>0.98</td>\n",
       "      <td>...</td>\n",
       "      <td>0.405455</td>\n",
       "      <td>0.207103</td>\n",
       "      <td>0.388937</td>\n",
       "      <td>82.500000</td>\n",
       "      <td>0.115799</td>\n",
       "      <td>410022.0</td>\n",
       "      <td>178917.0</td>\n",
       "      <td>39620.9140</td>\n",
       "      <td>0.050837</td>\n",
       "      <td>3104.57520</td>\n",
       "    </tr>\n",
       "    <tr>\n",
       "      <th>2</th>\n",
       "      <td>15_1202301</td>\n",
       "      <td>matrix.pi-ei.com/PropertyDetail/All?MarketID=1...</td>\n",
       "      <td>15</td>\n",
       "      <td>20</td>\n",
       "      <td>33054</td>\n",
       "      <td>25.894868</td>\n",
       "      <td>-80.255493</td>\n",
       "      <td>72</td>\n",
       "      <td>50900</td>\n",
       "      <td>1.84</td>\n",
       "      <td>...</td>\n",
       "      <td>0.691023</td>\n",
       "      <td>0.260284</td>\n",
       "      <td>0.462994</td>\n",
       "      <td>67.199997</td>\n",
       "      <td>-0.084148</td>\n",
       "      <td>142227.0</td>\n",
       "      <td>44417.0</td>\n",
       "      <td>2557.3152</td>\n",
       "      <td>0.000141</td>\n",
       "      <td>2085.59570</td>\n",
       "    </tr>\n",
       "    <tr>\n",
       "      <th>3</th>\n",
       "      <td>15_1203</td>\n",
       "      <td>matrix.pi-ei.com/PropertyDetail/All?MarketID=1...</td>\n",
       "      <td>15</td>\n",
       "      <td>22</td>\n",
       "      <td>33161</td>\n",
       "      <td>25.904657</td>\n",
       "      <td>-80.187637</td>\n",
       "      <td>56</td>\n",
       "      <td>47794</td>\n",
       "      <td>1.19</td>\n",
       "      <td>...</td>\n",
       "      <td>0.506375</td>\n",
       "      <td>0.068474</td>\n",
       "      <td>0.491990</td>\n",
       "      <td>67.699997</td>\n",
       "      <td>0.413781</td>\n",
       "      <td>120143.0</td>\n",
       "      <td>39273.0</td>\n",
       "      <td>10233.2890</td>\n",
       "      <td>-0.007761</td>\n",
       "      <td>847.96851</td>\n",
       "    </tr>\n",
       "    <tr>\n",
       "      <th>4</th>\n",
       "      <td>15_1218</td>\n",
       "      <td>matrix.pi-ei.com/PropertyDetail/All?MarketID=1...</td>\n",
       "      <td>15</td>\n",
       "      <td>23</td>\n",
       "      <td>33162</td>\n",
       "      <td>25.927809</td>\n",
       "      <td>-80.165436</td>\n",
       "      <td>68</td>\n",
       "      <td>49980</td>\n",
       "      <td>1.77</td>\n",
       "      <td>...</td>\n",
       "      <td>0.311018</td>\n",
       "      <td>0.053301</td>\n",
       "      <td>0.478218</td>\n",
       "      <td>76.199997</td>\n",
       "      <td>0.030026</td>\n",
       "      <td>120520.0</td>\n",
       "      <td>38667.0</td>\n",
       "      <td>9015.1748</td>\n",
       "      <td>-0.021468</td>\n",
       "      <td>3925.64500</td>\n",
       "    </tr>\n",
       "  </tbody>\n",
       "</table>\n",
       "<p>5 rows × 70 columns</p>\n",
       "</div>"
      ],
      "text/plain": [
       "  PROPERTY_ID                                PROPERTY_MATRIX_URL  MARKETID  \\\n",
       "0     15_1028  matrix.pi-ei.com/PropertyDetail/All?MarketID=1...        15   \n",
       "1     15_1160  matrix.pi-ei.com/PropertyDetail/All?MarketID=1...        15   \n",
       "2  15_1202301  matrix.pi-ei.com/PropertyDetail/All?MarketID=1...        15   \n",
       "3     15_1203  matrix.pi-ei.com/PropertyDetail/All?MarketID=1...        15   \n",
       "4     15_1218  matrix.pi-ei.com/PropertyDetail/All?MarketID=1...        15   \n",
       "\n",
       "   SUBMARKET_CODE  PROPERTY_ZIPCODE  PROPERTY_LATITUDE  PROPERTY_LONGITUDE  \\\n",
       "0              18             33012          25.854889          -80.305491   \n",
       "1              10             33126          25.779100          -80.281827   \n",
       "2              20             33054          25.894868          -80.255493   \n",
       "3              22             33161          25.904657          -80.187637   \n",
       "4              23             33162          25.927809          -80.165436   \n",
       "\n",
       "   PROPERTY_UNITS  PROPERTY_SQFT  PROPERTY_ACRES  ...  singleparent_share2000  \\\n",
       "0              76          39500            1.81  ...                0.298841   \n",
       "1              52          41600            0.98  ...                0.405455   \n",
       "2              72          50900            1.84  ...                0.691023   \n",
       "3              56          47794            1.19  ...                0.506375   \n",
       "4              68          49980            1.77  ...                0.311018   \n",
       "\n",
       "   traveltime15_2010   emp2000  mail_return_rate2010  ln_wage_growth_hs_grad  \\\n",
       "0           0.224109  0.395373             79.000000                0.206498   \n",
       "1           0.207103  0.388937             82.500000                0.115799   \n",
       "2           0.260284  0.462994             67.199997               -0.084148   \n",
       "3           0.068474  0.491990             67.699997                0.413781   \n",
       "4           0.053301  0.478218             76.199997                0.030026   \n",
       "\n",
       "   jobs_total_5mi_2015  jobs_highpay_5mi_2015  popdensity2010  \\\n",
       "0             275970.0               101451.0      11526.4160   \n",
       "1             410022.0               178917.0      39620.9140   \n",
       "2             142227.0                44417.0       2557.3152   \n",
       "3             120143.0                39273.0      10233.2890   \n",
       "4             120520.0                38667.0       9015.1748   \n",
       "\n",
       "   ann_avg_job_growth_2004_2013  job_density_2013  \n",
       "0                      0.013310        2320.75490  \n",
       "1                      0.050837        3104.57520  \n",
       "2                      0.000141        2085.59570  \n",
       "3                     -0.007761         847.96851  \n",
       "4                     -0.021468        3925.64500  \n",
       "\n",
       "[5 rows x 70 columns]"
      ]
     },
     "execution_count": 168,
     "metadata": {},
     "output_type": "execute_result"
    }
   ],
   "source": [
    "df.head()"
   ]
  },
  {
   "cell_type": "code",
   "execution_count": 169,
   "id": "43498be4",
   "metadata": {},
   "outputs": [],
   "source": [
    "df=df.reindex(np.random.permutation(df.index))"
   ]
  },
  {
   "cell_type": "code",
   "execution_count": 170,
   "id": "89ddcf6e",
   "metadata": {},
   "outputs": [
    {
     "data": {
      "text/html": [
       "<div>\n",
       "<style scoped>\n",
       "    .dataframe tbody tr th:only-of-type {\n",
       "        vertical-align: middle;\n",
       "    }\n",
       "\n",
       "    .dataframe tbody tr th {\n",
       "        vertical-align: top;\n",
       "    }\n",
       "\n",
       "    .dataframe thead th {\n",
       "        text-align: right;\n",
       "    }\n",
       "</style>\n",
       "<table border=\"1\" class=\"dataframe\">\n",
       "  <thead>\n",
       "    <tr style=\"text-align: right;\">\n",
       "      <th></th>\n",
       "      <th>PROPERTY_ID</th>\n",
       "      <th>PROPERTY_MATRIX_URL</th>\n",
       "      <th>MARKETID</th>\n",
       "      <th>SUBMARKET_CODE</th>\n",
       "      <th>PROPERTY_ZIPCODE</th>\n",
       "      <th>PROPERTY_LATITUDE</th>\n",
       "      <th>PROPERTY_LONGITUDE</th>\n",
       "      <th>PROPERTY_UNITS</th>\n",
       "      <th>PROPERTY_SQFT</th>\n",
       "      <th>PROPERTY_ACRES</th>\n",
       "      <th>...</th>\n",
       "      <th>singleparent_share2000</th>\n",
       "      <th>traveltime15_2010</th>\n",
       "      <th>emp2000</th>\n",
       "      <th>mail_return_rate2010</th>\n",
       "      <th>ln_wage_growth_hs_grad</th>\n",
       "      <th>jobs_total_5mi_2015</th>\n",
       "      <th>jobs_highpay_5mi_2015</th>\n",
       "      <th>popdensity2010</th>\n",
       "      <th>ann_avg_job_growth_2004_2013</th>\n",
       "      <th>job_density_2013</th>\n",
       "    </tr>\n",
       "  </thead>\n",
       "  <tbody>\n",
       "    <tr>\n",
       "      <th>19469</th>\n",
       "      <td>69_606</td>\n",
       "      <td>matrix.pi-ei.com/PropertyDetail/All?MarketID=6...</td>\n",
       "      <td>69</td>\n",
       "      <td>4</td>\n",
       "      <td>27127</td>\n",
       "      <td>36.028600</td>\n",
       "      <td>-80.268000</td>\n",
       "      <td>360</td>\n",
       "      <td>376728</td>\n",
       "      <td>30.52</td>\n",
       "      <td>...</td>\n",
       "      <td>0.325000</td>\n",
       "      <td>0.291255</td>\n",
       "      <td>0.682947</td>\n",
       "      <td>81.199997</td>\n",
       "      <td>-0.087782</td>\n",
       "      <td>41143.0</td>\n",
       "      <td>14130.0</td>\n",
       "      <td>1268.2927</td>\n",
       "      <td>0.090053</td>\n",
       "      <td>111.01766</td>\n",
       "    </tr>\n",
       "    <tr>\n",
       "      <th>10033</th>\n",
       "      <td>63_2487</td>\n",
       "      <td>matrix.pi-ei.com/PropertyDetail/All?MarketID=6...</td>\n",
       "      <td>63</td>\n",
       "      <td>19</td>\n",
       "      <td>77077</td>\n",
       "      <td>29.743214</td>\n",
       "      <td>-95.615920</td>\n",
       "      <td>342</td>\n",
       "      <td>279958</td>\n",
       "      <td>9.63</td>\n",
       "      <td>...</td>\n",
       "      <td>0.350090</td>\n",
       "      <td>0.250093</td>\n",
       "      <td>0.741746</td>\n",
       "      <td>67.199997</td>\n",
       "      <td>-0.041123</td>\n",
       "      <td>213822.0</td>\n",
       "      <td>129338.0</td>\n",
       "      <td>8653.3340</td>\n",
       "      <td>-0.006383</td>\n",
       "      <td>1348.57150</td>\n",
       "    </tr>\n",
       "    <tr>\n",
       "      <th>15949</th>\n",
       "      <td>24_2598</td>\n",
       "      <td>matrix.pi-ei.com/PropertyDetail/All?MarketID=2...</td>\n",
       "      <td>24</td>\n",
       "      <td>11</td>\n",
       "      <td>30083</td>\n",
       "      <td>33.810929</td>\n",
       "      <td>-84.187063</td>\n",
       "      <td>73</td>\n",
       "      <td>47520</td>\n",
       "      <td>5.07</td>\n",
       "      <td>...</td>\n",
       "      <td>0.531519</td>\n",
       "      <td>0.162637</td>\n",
       "      <td>0.656460</td>\n",
       "      <td>72.000000</td>\n",
       "      <td>0.225099</td>\n",
       "      <td>67398.0</td>\n",
       "      <td>27561.0</td>\n",
       "      <td>4019.2751</td>\n",
       "      <td>-0.097328</td>\n",
       "      <td>554.35620</td>\n",
       "    </tr>\n",
       "    <tr>\n",
       "      <th>19376</th>\n",
       "      <td>68_209</td>\n",
       "      <td>matrix.pi-ei.com/PropertyDetail/All?MarketID=6...</td>\n",
       "      <td>68</td>\n",
       "      <td>18</td>\n",
       "      <td>28262</td>\n",
       "      <td>35.315059</td>\n",
       "      <td>-80.743855</td>\n",
       "      <td>302</td>\n",
       "      <td>300806</td>\n",
       "      <td>24.51</td>\n",
       "      <td>...</td>\n",
       "      <td>0.261623</td>\n",
       "      <td>0.373051</td>\n",
       "      <td>0.770387</td>\n",
       "      <td>64.300003</td>\n",
       "      <td>-0.310473</td>\n",
       "      <td>79073.0</td>\n",
       "      <td>39044.0</td>\n",
       "      <td>1410.6396</td>\n",
       "      <td>0.041651</td>\n",
       "      <td>4777.04740</td>\n",
       "    </tr>\n",
       "    <tr>\n",
       "      <th>7635</th>\n",
       "      <td>37_1895</td>\n",
       "      <td>matrix.pi-ei.com/PropertyDetail/All?MarketID=3...</td>\n",
       "      <td>37</td>\n",
       "      <td>27</td>\n",
       "      <td>75007</td>\n",
       "      <td>32.996130</td>\n",
       "      <td>-96.885652</td>\n",
       "      <td>256</td>\n",
       "      <td>210208</td>\n",
       "      <td>14.24</td>\n",
       "      <td>...</td>\n",
       "      <td>0.221298</td>\n",
       "      <td>0.147264</td>\n",
       "      <td>0.786462</td>\n",
       "      <td>75.199997</td>\n",
       "      <td>0.072855</td>\n",
       "      <td>211726.0</td>\n",
       "      <td>115183.0</td>\n",
       "      <td>5568.3140</td>\n",
       "      <td>-0.009642</td>\n",
       "      <td>638.08136</td>\n",
       "    </tr>\n",
       "  </tbody>\n",
       "</table>\n",
       "<p>5 rows × 70 columns</p>\n",
       "</div>"
      ],
      "text/plain": [
       "      PROPERTY_ID                                PROPERTY_MATRIX_URL  \\\n",
       "19469      69_606  matrix.pi-ei.com/PropertyDetail/All?MarketID=6...   \n",
       "10033     63_2487  matrix.pi-ei.com/PropertyDetail/All?MarketID=6...   \n",
       "15949     24_2598  matrix.pi-ei.com/PropertyDetail/All?MarketID=2...   \n",
       "19376      68_209  matrix.pi-ei.com/PropertyDetail/All?MarketID=6...   \n",
       "7635      37_1895  matrix.pi-ei.com/PropertyDetail/All?MarketID=3...   \n",
       "\n",
       "       MARKETID  SUBMARKET_CODE  PROPERTY_ZIPCODE  PROPERTY_LATITUDE  \\\n",
       "19469        69               4             27127          36.028600   \n",
       "10033        63              19             77077          29.743214   \n",
       "15949        24              11             30083          33.810929   \n",
       "19376        68              18             28262          35.315059   \n",
       "7635         37              27             75007          32.996130   \n",
       "\n",
       "       PROPERTY_LONGITUDE  PROPERTY_UNITS  PROPERTY_SQFT  PROPERTY_ACRES  ...  \\\n",
       "19469          -80.268000             360         376728           30.52  ...   \n",
       "10033          -95.615920             342         279958            9.63  ...   \n",
       "15949          -84.187063              73          47520            5.07  ...   \n",
       "19376          -80.743855             302         300806           24.51  ...   \n",
       "7635           -96.885652             256         210208           14.24  ...   \n",
       "\n",
       "       singleparent_share2000  traveltime15_2010   emp2000  \\\n",
       "19469                0.325000           0.291255  0.682947   \n",
       "10033                0.350090           0.250093  0.741746   \n",
       "15949                0.531519           0.162637  0.656460   \n",
       "19376                0.261623           0.373051  0.770387   \n",
       "7635                 0.221298           0.147264  0.786462   \n",
       "\n",
       "       mail_return_rate2010  ln_wage_growth_hs_grad  jobs_total_5mi_2015  \\\n",
       "19469             81.199997               -0.087782              41143.0   \n",
       "10033             67.199997               -0.041123             213822.0   \n",
       "15949             72.000000                0.225099              67398.0   \n",
       "19376             64.300003               -0.310473              79073.0   \n",
       "7635              75.199997                0.072855             211726.0   \n",
       "\n",
       "       jobs_highpay_5mi_2015  popdensity2010  ann_avg_job_growth_2004_2013  \\\n",
       "19469                14130.0       1268.2927                      0.090053   \n",
       "10033               129338.0       8653.3340                     -0.006383   \n",
       "15949                27561.0       4019.2751                     -0.097328   \n",
       "19376                39044.0       1410.6396                      0.041651   \n",
       "7635                115183.0       5568.3140                     -0.009642   \n",
       "\n",
       "       job_density_2013  \n",
       "19469         111.01766  \n",
       "10033        1348.57150  \n",
       "15949         554.35620  \n",
       "19376        4777.04740  \n",
       "7635          638.08136  \n",
       "\n",
       "[5 rows x 70 columns]"
      ]
     },
     "execution_count": 170,
     "metadata": {},
     "output_type": "execute_result"
    }
   ],
   "source": [
    "df.head()"
   ]
  },
  {
   "cell_type": "code",
   "execution_count": 171,
   "id": "a0a11ce4",
   "metadata": {},
   "outputs": [],
   "source": [
    "df.dropna(subset=[\"PROPERTY_ACRES\"],inplace=True)"
   ]
  },
  {
   "cell_type": "code",
   "execution_count": 172,
   "id": "bb2585b2",
   "metadata": {},
   "outputs": [
    {
     "data": {
      "text/plain": [
       "PROPERTY_ID                     0\n",
       "PROPERTY_MATRIX_URL             0\n",
       "MARKETID                        0\n",
       "SUBMARKET_CODE                  0\n",
       "PROPERTY_ZIPCODE                0\n",
       "PROPERTY_LATITUDE               0\n",
       "PROPERTY_LONGITUDE              0\n",
       "PROPERTY_UNITS                  0\n",
       "PROPERTY_SQFT                   0\n",
       "PROPERTY_ACRES                  0\n",
       "PROPERTY_IMPRATING              0\n",
       "PROPERTY_LOCRATING              0\n",
       "PROPERTY_CURRENT_OCCUPANCY      0\n",
       "PROPERTY_CURRENT_RENT           0\n",
       "RENT_SQFT                       0\n",
       "UNDER_CONSTRUCTION_RATIO        0\n",
       "AGE                             0\n",
       "HOSPITAL                        0\n",
       "wholefood                       0\n",
       "state#                          0\n",
       "county#                         0\n",
       "tract#                          0\n",
       "starbucks1                      0\n",
       "wholefood1                      0\n",
       "hospital1                       0\n",
       "starbucks2                      0\n",
       "wholefood2                      0\n",
       "hospital2                       0\n",
       "starbucks3                      0\n",
       "wholefood3                      0\n",
       "hospital3                       0\n",
       "starbucks4                      0\n",
       "wholefood4                      0\n",
       "hospital4                       0\n",
       "starbucks5                      0\n",
       "wholefood5                      0\n",
       "hospital5                       0\n",
       "hhinc_mean2000                  0\n",
       "mean_commutetime2000            0\n",
       "frac_coll_plus2000              0\n",
       "frac_coll_plus2010              0\n",
       "foreign_share2010               0\n",
       "med_hhinc1990                   0\n",
       "med_hhinc2016                   0\n",
       "popdensity2000                  0\n",
       "poor_share2010                  0\n",
       "poor_share2000                  0\n",
       "poor_share1990                  0\n",
       "share_white2010                 0\n",
       "share_black2010                 0\n",
       "share_hisp2010                  0\n",
       "share_asian2010                 0\n",
       "share_black2000                 0\n",
       "share_white2000                 0\n",
       "share_hisp2000                  0\n",
       "share_asian2000                 0\n",
       "gsmn_math_g3_2013               0\n",
       "rent_twobed2015                 0\n",
       "singleparent_share2010          0\n",
       "singleparent_share1990          0\n",
       "singleparent_share2000          0\n",
       "traveltime15_2010               0\n",
       "emp2000                         0\n",
       "mail_return_rate2010            0\n",
       "ln_wage_growth_hs_grad          0\n",
       "jobs_total_5mi_2015             0\n",
       "jobs_highpay_5mi_2015           0\n",
       "popdensity2010                  0\n",
       "ann_avg_job_growth_2004_2013    0\n",
       "job_density_2013                0\n",
       "dtype: int64"
      ]
     },
     "execution_count": 172,
     "metadata": {},
     "output_type": "execute_result"
    }
   ],
   "source": [
    "df.isnull().sum()"
   ]
  },
  {
   "cell_type": "code",
   "execution_count": 173,
   "id": "1375dc65",
   "metadata": {},
   "outputs": [],
   "source": [
    "div=int(df.shape[0]/3)"
   ]
  },
  {
   "cell_type": "code",
   "execution_count": 174,
   "id": "9aaea36e",
   "metadata": {},
   "outputs": [
    {
     "data": {
      "text/plain": [
       "7482"
      ]
     },
     "execution_count": 174,
     "metadata": {},
     "output_type": "execute_result"
    }
   ],
   "source": [
    "div"
   ]
  },
  {
   "cell_type": "code",
   "execution_count": 175,
   "id": "47221401",
   "metadata": {},
   "outputs": [],
   "source": [
    "df1=df.iloc[0:div,:]"
   ]
  },
  {
   "cell_type": "code",
   "execution_count": 176,
   "id": "f538cdad",
   "metadata": {},
   "outputs": [],
   "source": [
    "df2=df.iloc[div:2*div,:]"
   ]
  },
  {
   "cell_type": "code",
   "execution_count": 177,
   "id": "62bd20b2",
   "metadata": {},
   "outputs": [],
   "source": [
    "df3=df.iloc[2*div:3*div,:]"
   ]
  },
  {
   "cell_type": "code",
   "execution_count": 178,
   "id": "d4b85890",
   "metadata": {},
   "outputs": [],
   "source": [
    "x1=df1.drop([\"RENT_SQFT\",\"PROPERTY_ID\",\"PROPERTY_MATRIX_URL\"],axis=1)\n",
    "x2=df2.drop([\"RENT_SQFT\",\"PROPERTY_ID\",\"PROPERTY_MATRIX_URL\"],axis=1)\n",
    "x3=df3.drop([\"RENT_SQFT\",\"PROPERTY_ID\",\"PROPERTY_MATRIX_URL\"],axis=1)"
   ]
  },
  {
   "cell_type": "code",
   "execution_count": 179,
   "id": "be9c6170",
   "metadata": {},
   "outputs": [],
   "source": [
    "y1=df1[\"RENT_SQFT\"]\n",
    "y2=df2[\"RENT_SQFT\"]\n",
    "y3=df3[\"RENT_SQFT\"]"
   ]
  },
  {
   "cell_type": "code",
   "execution_count": 180,
   "id": "93e04465",
   "metadata": {},
   "outputs": [
    {
     "data": {
      "text/plain": [
       "DecisionTreeRegressor()"
      ]
     },
     "execution_count": 180,
     "metadata": {},
     "output_type": "execute_result"
    }
   ],
   "source": [
    "model =DecisionTreeRegressor()\n",
    "model.fit(x1.append(x2),y1.append(y2))   "
   ]
  },
  {
   "cell_type": "code",
   "execution_count": 181,
   "id": "6acc234f",
   "metadata": {},
   "outputs": [],
   "source": [
    "r3=model.predict(x3)"
   ]
  },
  {
   "cell_type": "code",
   "execution_count": 182,
   "id": "f3dc7ea3",
   "metadata": {},
   "outputs": [
    {
     "data": {
      "text/plain": [
       "DecisionTreeRegressor()"
      ]
     },
     "execution_count": 182,
     "metadata": {},
     "output_type": "execute_result"
    }
   ],
   "source": [
    "model =DecisionTreeRegressor()\n",
    "model.fit(x1.append(x3),y1.append(y3))   "
   ]
  },
  {
   "cell_type": "code",
   "execution_count": 183,
   "id": "258160c2",
   "metadata": {},
   "outputs": [],
   "source": [
    "r2=model.predict(x2)"
   ]
  },
  {
   "cell_type": "code",
   "execution_count": 184,
   "id": "ad2631c9",
   "metadata": {},
   "outputs": [
    {
     "data": {
      "text/plain": [
       "DecisionTreeRegressor()"
      ]
     },
     "execution_count": 184,
     "metadata": {},
     "output_type": "execute_result"
    }
   ],
   "source": [
    "model =DecisionTreeRegressor()\n",
    "model.fit(x2.append(x3),y2.append(y3))  "
   ]
  },
  {
   "cell_type": "code",
   "execution_count": 185,
   "id": "565058df",
   "metadata": {},
   "outputs": [],
   "source": [
    "r1=model.predict(x1)"
   ]
  },
  {
   "cell_type": "code",
   "execution_count": 186,
   "id": "995ed553",
   "metadata": {},
   "outputs": [
    {
     "data": {
      "text/plain": [
       "RandomForestRegressor()"
      ]
     },
     "execution_count": 186,
     "metadata": {},
     "output_type": "execute_result"
    }
   ],
   "source": [
    "model =RandomForestRegressor()\n",
    "model.fit(x1.append(x2),y1.append(y2))   "
   ]
  },
  {
   "cell_type": "code",
   "execution_count": 187,
   "id": "763c01f6",
   "metadata": {},
   "outputs": [],
   "source": [
    "r33=model.predict(x3)"
   ]
  },
  {
   "cell_type": "code",
   "execution_count": 188,
   "id": "0ae778ba",
   "metadata": {},
   "outputs": [
    {
     "data": {
      "text/plain": [
       "RandomForestRegressor()"
      ]
     },
     "execution_count": 188,
     "metadata": {},
     "output_type": "execute_result"
    }
   ],
   "source": [
    "model =RandomForestRegressor()\n",
    "model.fit(x1.append(x3),y1.append(y3))   "
   ]
  },
  {
   "cell_type": "code",
   "execution_count": 189,
   "id": "f3eba13f",
   "metadata": {},
   "outputs": [],
   "source": [
    "r22=model.predict(x2)"
   ]
  },
  {
   "cell_type": "code",
   "execution_count": 190,
   "id": "0bfbc0c3",
   "metadata": {},
   "outputs": [
    {
     "data": {
      "text/plain": [
       "RandomForestRegressor()"
      ]
     },
     "execution_count": 190,
     "metadata": {},
     "output_type": "execute_result"
    }
   ],
   "source": [
    "model =RandomForestRegressor()\n",
    "model.fit(x2.append(x3),y2.append(y3))   "
   ]
  },
  {
   "cell_type": "code",
   "execution_count": 191,
   "id": "ad0eaee9",
   "metadata": {},
   "outputs": [],
   "source": [
    "r11=model.predict(x1)"
   ]
  },
  {
   "cell_type": "code",
   "execution_count": 192,
   "id": "5dd515d5",
   "metadata": {},
   "outputs": [],
   "source": [
    "rf=np.append(np.append(r11,r22),r33)"
   ]
  },
  {
   "cell_type": "code",
   "execution_count": 193,
   "id": "4d4c00b5",
   "metadata": {},
   "outputs": [],
   "source": [
    "dt=np.append(np.append(r1,r2),r3)"
   ]
  },
  {
   "cell_type": "code",
   "execution_count": 194,
   "id": "5e651269",
   "metadata": {},
   "outputs": [],
   "source": [
    "df_rf=df.copy()\n",
    "df_dt=df.copy()"
   ]
  },
  {
   "cell_type": "code",
   "execution_count": 195,
   "id": "8d917cd9",
   "metadata": {},
   "outputs": [],
   "source": [
    "df_rf[\"result\"]=rf\n",
    "df_dt[\"result\"]=dt"
   ]
  },
  {
   "cell_type": "code",
   "execution_count": 198,
   "id": "17af72ce",
   "metadata": {},
   "outputs": [],
   "source": [
    "df_rf.to_csv(\"rf.csv\")"
   ]
  },
  {
   "cell_type": "code",
   "execution_count": 199,
   "id": "4f387a8b",
   "metadata": {},
   "outputs": [],
   "source": [
    "df_dt.to_csv(\"dt.csv\")"
   ]
  },
  {
   "cell_type": "code",
   "execution_count": null,
   "id": "6d19bf1f",
   "metadata": {},
   "outputs": [],
   "source": []
  }
 ],
 "metadata": {
  "kernelspec": {
   "display_name": "geo",
   "language": "python",
   "name": "geo"
  },
  "language_info": {
   "codemirror_mode": {
    "name": "ipython",
    "version": 3
   },
   "file_extension": ".py",
   "mimetype": "text/x-python",
   "name": "python",
   "nbconvert_exporter": "python",
   "pygments_lexer": "ipython3",
   "version": "3.10.0"
  }
 },
 "nbformat": 4,
 "nbformat_minor": 5
}
